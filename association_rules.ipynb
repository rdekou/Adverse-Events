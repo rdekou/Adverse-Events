{
 "cells": [
  {
   "cell_type": "markdown",
   "metadata": {},
   "source": [
    "### Market Basket Analysis of Drugs Reported with Adverse Events\n",
    "\n",
    "implemented under R 3.3.1"
   ]
  },
  {
   "cell_type": "markdown",
   "metadata": {},
   "source": [
    "### Data Description\n",
    "\n",
    "The FDA&#39;s database of adverse event reports is made available through a web API at\n",
    "\n",
    "https://open.fda.gov/drug/event/. Each report contains general information about the report,\n",
    "\n",
    "patient information, a list of the drugs that the patient is taking, and a list of the patient reactions.  It\n",
    "\n",
    "is possible to use these data in many ways: your brief is to explore these data and to see what might\n",
    "\n",
    "be learned from them. \n",
    "\n",
    "###### The drugs taken by a patient for which an adverse event was reported were extracted from this database (see the notebook Adverse_event_drug_prep.ipynb)\n",
    "\n",
    "### Task\n",
    "\n",
    "The goal of the present work is to answer the question \"which drugs tend to be taken together?\". To do so, the drugs reported with an event are processed as a \"single transaction within a market basket\" and the apriori algorithm is used to find the items that often occur together within transactional database."
   ]
  },
  {
   "cell_type": "code",
   "execution_count": 23,
   "metadata": {
    "collapsed": false,
    "scrolled": false
   },
   "outputs": [],
   "source": [
    "library(arules)"
   ]
  },
  {
   "cell_type": "code",
   "execution_count": 24,
   "metadata": {
    "collapsed": false,
    "scrolled": false
   },
   "outputs": [],
   "source": [
    "\n",
    "Groceries <- read.transactions('./drug_event_clean.csv', sep = ',', skip = 1) #keep potential duplicates"
   ]
  },
  {
   "cell_type": "markdown",
   "metadata": {
    "collapsed": true
   },
   "source": []
  },
  {
   "cell_type": "markdown",
   "metadata": {},
   "source": [
    "Potential duplicates are kept as different patients might be taken the same set of drugs"
   ]
  },
  {
   "cell_type": "code",
   "execution_count": 25,
   "metadata": {
    "collapsed": false,
    "scrolled": true
   },
   "outputs": [
    {
     "data": {
      "text/plain": [
       "transactions as itemMatrix in sparse format with\n",
       " 28155 rows (elements/itemsets/transactions) and\n",
       " 12419 columns (items) and a density of 0.0002353821 \n",
       "\n",
       "most frequent items:\n",
       "     FORTEO     PEGASYS  RIBAVIRIN.     CALCIUM PREDNISONE.     (Other) \n",
       "       2812        2044        1603         993         892       73959 \n",
       "\n",
       "element (itemset/transaction) length distribution:\n",
       "sizes\n",
       "    2     3     4     5     6     7     8     9    10    11    12    13    14 \n",
       "17069  5494  2328  1243   703   389   240   345   100    94    45    29    28 \n",
       "   15    16    17    18    19    20    21    22    24    30    34 \n",
       "   17    11     4     3     3     3     1     2     2     1     1 \n",
       "\n",
       "   Min. 1st Qu.  Median    Mean 3rd Qu.    Max. \n",
       "  2.000   2.000   2.000   2.923   3.000  34.000 \n",
       "\n",
       "includes extended item information - examples:\n",
       "                      labels\n",
       "1 (90)Y-IBRITUMOMAB TIUXETAN\n",
       "2                (SPIRUTEIN)\n",
       "3             ^A CHEMO DRUG^"
      ]
     },
     "metadata": {},
     "output_type": "display_data"
    }
   ],
   "source": [
    "summary(Groceries)"
   ]
  },
  {
   "cell_type": "code",
   "execution_count": 26,
   "metadata": {
    "collapsed": false
   },
   "outputs": [
    {
     "data": {
      "text/html": [
       "<ol class=list-inline>\n",
       "\t<li>\"(90)Y-IBRITUMOMAB TIUXETAN\"</li>\n",
       "\t<li>\"(SPIRUTEIN)\"</li>\n",
       "\t<li>\"^A CHEMO DRUG^\"</li>\n",
       "\t<li>\"^BLOOD PRESSURE^ MEDICATION\"</li>\n",
       "\t<li>\"^LDN^\"</li>\n",
       "\t<li>\"^OTHER HERBAL MARKERS^\"</li>\n",
       "\t<li>\"^OVER 50^ MULTIVITAMIN\"</li>\n",
       "\t<li>\"^THYROID MEDICATION^\"</li>\n",
       "\t<li>\"^VITAMINS^ (NOS)\"</li>\n",
       "\t<li>\"0.9 SOLUTION OF NACL\"</li>\n",
       "\t<li>\"0.9% SODIUM CHLORIDE INJECTION\"</li>\n",
       "\t<li>\"1-ALPHA-25-DIHYDROXYVITAMIN D3\"</li>\n",
       "\t<li>\"1-ARGININE PLUS\"</li>\n",
       "\t<li>\"1% HYDROCORTISONE\"</li>\n",
       "\t<li>\"10% DEXTROSE AND 0.9% SODIUM CHLORIDE INJECTION\"</li>\n",
       "\t<li>\"13-CIS-RETINOIC ACID\"</li>\n",
       "\t<li>\"14-HYDROXYDAUNOMYCIN HCL\"</li>\n",
       "\t<li>\"2% KETOCONAZOLE CREAM CREAM\"</li>\n",
       "\t<li>\"2% LIDOCAINE WITH 1:80 000 EPINEPHRINE\"</li>\n",
       "\t<li>\"20% MANNITOL INJECTION\"</li>\n",
       "</ol>\n"
      ],
      "text/latex": [
       "\\begin{enumerate*}\n",
       "\\item \"(90)Y-IBRITUMOMAB TIUXETAN\"\n",
       "\\item \"(SPIRUTEIN)\"\n",
       "\\item \"\\textasciicircum{}A CHEMO DRUG\\textasciicircum{}\"\n",
       "\\item \"\\textasciicircum{}BLOOD PRESSURE\\textasciicircum{} MEDICATION\"\n",
       "\\item \"\\textasciicircum{}LDN\\textasciicircum{}\"\n",
       "\\item \"\\textasciicircum{}OTHER HERBAL MARKERS\\textasciicircum{}\"\n",
       "\\item \"\\textasciicircum{}OVER 50\\textasciicircum{} MULTIVITAMIN\"\n",
       "\\item \"\\textasciicircum{}THYROID MEDICATION\\textasciicircum{}\"\n",
       "\\item \"\\textasciicircum{}VITAMINS\\textasciicircum{} (NOS)\"\n",
       "\\item \"0.9 SOLUTION OF NACL\"\n",
       "\\item \"0.9\\% SODIUM CHLORIDE INJECTION\"\n",
       "\\item \"1-ALPHA-25-DIHYDROXYVITAMIN D3\"\n",
       "\\item \"1-ARGININE PLUS\"\n",
       "\\item \"1\\% HYDROCORTISONE\"\n",
       "\\item \"10\\% DEXTROSE AND 0.9\\% SODIUM CHLORIDE INJECTION\"\n",
       "\\item \"13-CIS-RETINOIC ACID\"\n",
       "\\item \"14-HYDROXYDAUNOMYCIN HCL\"\n",
       "\\item \"2\\% KETOCONAZOLE CREAM CREAM\"\n",
       "\\item \"2\\% LIDOCAINE WITH 1:80 000 EPINEPHRINE\"\n",
       "\\item \"20\\% MANNITOL INJECTION\"\n",
       "\\end{enumerate*}\n"
      ],
      "text/markdown": [
       "1. \"(90)Y-IBRITUMOMAB TIUXETAN\"\n",
       "2. \"(SPIRUTEIN)\"\n",
       "3. \"^A CHEMO DRUG^\"\n",
       "4. \"^BLOOD PRESSURE^ MEDICATION\"\n",
       "5. \"^LDN^\"\n",
       "6. \"^OTHER HERBAL MARKERS^\"\n",
       "7. \"^OVER 50^ MULTIVITAMIN\"\n",
       "8. \"^THYROID MEDICATION^\"\n",
       "9. \"^VITAMINS^ (NOS)\"\n",
       "10. \"0.9 SOLUTION OF NACL\"\n",
       "11. \"0.9% SODIUM CHLORIDE INJECTION\"\n",
       "12. \"1-ALPHA-25-DIHYDROXYVITAMIN D3\"\n",
       "13. \"1-ARGININE PLUS\"\n",
       "14. \"1% HYDROCORTISONE\"\n",
       "15. \"10% DEXTROSE AND 0.9% SODIUM CHLORIDE INJECTION\"\n",
       "16. \"13-CIS-RETINOIC ACID\"\n",
       "17. \"14-HYDROXYDAUNOMYCIN HCL\"\n",
       "18. \"2% KETOCONAZOLE CREAM CREAM\"\n",
       "19. \"2% LIDOCAINE WITH 1:80 000 EPINEPHRINE\"\n",
       "20. \"20% MANNITOL INJECTION\"\n",
       "\n",
       "\n"
      ],
      "text/plain": [
       " [1] \"(90)Y-IBRITUMOMAB TIUXETAN\"                     \n",
       " [2] \"(SPIRUTEIN)\"                                    \n",
       " [3] \"^A CHEMO DRUG^\"                                 \n",
       " [4] \"^BLOOD PRESSURE^ MEDICATION\"                    \n",
       " [5] \"^LDN^\"                                          \n",
       " [6] \"^OTHER HERBAL MARKERS^\"                         \n",
       " [7] \"^OVER 50^ MULTIVITAMIN\"                         \n",
       " [8] \"^THYROID MEDICATION^\"                           \n",
       " [9] \"^VITAMINS^ (NOS)\"                               \n",
       "[10] \"0.9 SOLUTION OF NACL\"                           \n",
       "[11] \"0.9% SODIUM CHLORIDE INJECTION\"                 \n",
       "[12] \"1-ALPHA-25-DIHYDROXYVITAMIN D3\"                 \n",
       "[13] \"1-ARGININE PLUS\"                                \n",
       "[14] \"1% HYDROCORTISONE\"                              \n",
       "[15] \"10% DEXTROSE AND 0.9% SODIUM CHLORIDE INJECTION\"\n",
       "[16] \"13-CIS-RETINOIC ACID\"                           \n",
       "[17] \"14-HYDROXYDAUNOMYCIN HCL\"                       \n",
       "[18] \"2% KETOCONAZOLE CREAM CREAM\"                    \n",
       "[19] \"2% LIDOCAINE WITH 1:80 000 EPINEPHRINE\"         \n",
       "[20] \"20% MANNITOL INJECTION\"                         "
      ]
     },
     "metadata": {},
     "output_type": "display_data"
    }
   ],
   "source": [
    "itemLabels(Groceries)[1:20]"
   ]
  },
  {
   "cell_type": "markdown",
   "metadata": {},
   "source": [
    "we have a total of 28155 events (rows) and 12419 different drug items (columns) that might appear in a single adverse event report. \n",
    "\n",
    "The most frequent drugs are FORTEO, PEGASYS,  RIBAVIRIN.,    CALCIUM PREDNISONE.  as reported with the number of event in which they appear.\n",
    "\n",
    "A total of 17069 event contains only two drugs, 5494 only 3 and so on.\n",
    "\n",
    "The first quantile and the median has 2 items respectively, \n",
    "\n",
    "The mean number of drugs per event is 2.923."
   ]
  },
  {
   "cell_type": "markdown",
   "metadata": {},
   "source": [
    "The drugs used in the first five events are "
   ]
  },
  {
   "cell_type": "code",
   "execution_count": 27,
   "metadata": {
    "collapsed": false
   },
   "outputs": [
    {
     "name": "stdout",
     "output_type": "stream",
     "text": [
      "    items                                           \n",
      "[1] {ONBREZ INHALATION CAPSUL,                      \n",
      "     SEIHAITO}                                      \n",
      "[2] {CERTOLIZUMAB PEGOL RA,                         \n",
      "     PANTOLOC}                                      \n",
      "[3] {BCG FOR IMMUNOTHERAPY,                         \n",
      "     IMMUNOBLADDER}                                 \n",
      "[4] {ESIDREX,                                       \n",
      "     PANTOPRAZOLO MYLAN 20MG GASTRORESISTANT TABLET}\n",
      "[5] {5- HT3 RECEPTOR ANTAGONISTS,                   \n",
      "     HYPODERMIC ATROPINE,                           \n",
      "     IRINOTECAN,                                    \n",
      "     NIMOTUZUMAB}                                   \n"
     ]
    }
   ],
   "source": [
    "inspect(Groceries[1:5])"
   ]
  },
  {
   "cell_type": "markdown",
   "metadata": {},
   "source": [
    "Let print the top 25 drug items"
   ]
  },
  {
   "cell_type": "code",
   "execution_count": 28,
   "metadata": {
    "collapsed": false,
    "scrolled": true
   },
   "outputs": [
    {
     "data": {
      "image/png": "[encoded data removed]",
      "text/plain": [
       "plot without title"
      ]
     },
     "metadata": {},
     "output_type": "display_data"
    }
   ],
   "source": [
    "itemFrequencyPlot(Groceries, topN = 25)"
   ]
  },
  {
   "cell_type": "markdown",
   "metadata": {},
   "source": [
    "\n",
    "Or based on the items frequency"
   ]
  },
  {
   "cell_type": "code",
   "execution_count": 29,
   "metadata": {
    "collapsed": false,
    "scrolled": false
   },
   "outputs": [
    {
     "data": {
      "image/png": "[encoded data removed]",
      "text/plain": [
       "plot without title"
      ]
     },
     "metadata": {},
     "output_type": "display_data"
    }
   ],
   "source": [
    "itemFrequencyPlot(Groceries, support = 0.01)"
   ]
  },
  {
   "cell_type": "markdown",
   "metadata": {
    "collapsed": false
   },
   "source": [
    "\n",
    "Running the apriori algorithm with default confidence (0.8) and support (0.1) results in a set of 0 rules. "
   ]
  },
  {
   "cell_type": "code",
   "execution_count": 30,
   "metadata": {
    "collapsed": false,
    "scrolled": false
   },
   "outputs": [
    {
     "name": "stdout",
     "output_type": "stream",
     "text": [
      "Apriori\n",
      "\n",
      "Parameter specification:\n",
      " confidence minval smax arem  aval originalSupport maxtime support minlen\n",
      "        0.8    0.1    1 none FALSE            TRUE       5     0.1      1\n",
      " maxlen target   ext\n",
      "     10  rules FALSE\n",
      "\n",
      "Algorithmic control:\n",
      " filter tree heap memopt load sort verbose\n",
      "    0.1 TRUE TRUE  FALSE TRUE    2    TRUE\n",
      "\n",
      "Absolute minimum support count: 2815 \n",
      "\n",
      "set item appearances ...[0 item(s)] done [0.02s].\n",
      "set transactions ...[12419 item(s), 28155 transaction(s)] done [0.08s].\n",
      "sorting and recoding items ... [0 item(s)] done [0.00s].\n",
      "creating transaction tree ... done [0.00s].\n",
      "checking subsets of size 1 done [0.00s].\n",
      "writing ... [0 rule(s)] done [0.00s].\n",
      "creating S4 object  ... done [0.00s].\n"
     ]
    },
    {
     "data": {
      "text/plain": [
       "set of 0 rules "
      ]
     },
     "metadata": {},
     "output_type": "display_data"
    }
   ],
   "source": [
    "apriori(Groceries)"
   ]
  },
  {
   "cell_type": "markdown",
   "metadata": {},
   "source": [
    "One needs to decrease both the confidence and support to get the chance of finding rules. But these values should not be set too low as it will result in an unwidely number of rules that is difficult to process."
   ]
  },
  {
   "cell_type": "markdown",
   "metadata": {},
   "source": [
    "For the support, we consider here that if an item appears about 28 times within 28000 reports it is an item of interest\n",
    "\n",
    "28/28155 = 0.0001"
   ]
  },
  {
   "cell_type": "markdown",
   "metadata": {},
   "source": [
    "confidence of 0.25 means in order to be included in the result the rule has to be corrected around 25 percent of times\n",
    "\n",
    "maxlen is set to 2 here to limit the rules to return only  pair combination of products"
   ]
  },
  {
   "cell_type": "code",
   "execution_count": 31,
   "metadata": {
    "collapsed": false
   },
   "outputs": [
    {
     "name": "stdout",
     "output_type": "stream",
     "text": [
      "Apriori\n",
      "\n",
      "Parameter specification:\n",
      " confidence minval smax arem  aval originalSupport maxtime support minlen\n",
      "       0.25    0.1    1 none FALSE            TRUE       5   0.001      1\n",
      " maxlen target   ext\n",
      "      2  rules FALSE\n",
      "\n",
      "Algorithmic control:\n",
      " filter tree heap memopt load sort verbose\n",
      "    0.1 TRUE TRUE  FALSE TRUE    2    TRUE\n",
      "\n",
      "Absolute minimum support count: 28 \n",
      "\n",
      "set item appearances ...[0 item(s)] done [0.00s].\n",
      "set transactions ...[12419 item(s), 28155 transaction(s)] done [0.02s].\n",
      "sorting and recoding items ... [448 item(s)] done [0.00s].\n",
      "creating transaction tree ... done [0.01s].\n",
      "checking subsets of size 1 2"
     ]
    },
    {
     "name": "stderr",
     "output_type": "stream",
     "text": [
      "Warning message in apriori(Groceries, parameter = list(support = 0.001, confidence = 0.25, :\n",
      "\"Mining stopped (maxlen reached). Only patterns up to a length of 2 returned!\""
     ]
    },
    {
     "name": "stdout",
     "output_type": "stream",
     "text": [
      " done [0.08s].\n",
      "writing ... [231 rule(s)] done [0.00s].\n",
      "creating S4 object  ... done [0.00s].\n"
     ]
    }
   ],
   "source": [
    "groceryrules <- apriori(Groceries, parameter = list(support= 0.001, confidence =0.25, maxlen=2))"
   ]
  },
  {
   "cell_type": "code",
   "execution_count": 32,
   "metadata": {
    "collapsed": false,
    "scrolled": true
   },
   "outputs": [
    {
     "data": {
      "text/plain": [
       "set of 231 rules "
      ]
     },
     "metadata": {},
     "output_type": "display_data"
    }
   ],
   "source": [
    "groceryrules"
   ]
  },
  {
   "cell_type": "code",
   "execution_count": 33,
   "metadata": {
    "collapsed": false,
    "scrolled": true
   },
   "outputs": [
    {
     "data": {
      "text/plain": [
       "set of 231 rules\n",
       "\n",
       "rule length distribution (lhs + rhs):sizes\n",
       "  2 \n",
       "231 \n",
       "\n",
       "   Min. 1st Qu.  Median    Mean 3rd Qu.    Max. \n",
       "      2       2       2       2       2       2 \n",
       "\n",
       "summary of quality measures:\n",
       "    support           confidence          lift        \n",
       " Min.   :0.001030   Min.   :0.2500   Min.   :  2.861  \n",
       " 1st Qu.:0.001527   1st Qu.:0.4658   1st Qu.: 33.194  \n",
       " Median :0.002912   Median :0.6897   Median : 87.812  \n",
       " Mean   :0.004459   Mean   :0.6704   Mean   :118.865  \n",
       " 3rd Qu.:0.005807   3rd Qu.:0.9131   3rd Qu.:128.399  \n",
       " Max.   :0.045853   Max.   :1.0000   Max.   :563.100  \n",
       "\n",
       "mining info:\n",
       "      data ntransactions support confidence\n",
       " Groceries         28155   0.001       0.25"
      ]
     },
     "metadata": {},
     "output_type": "display_data"
    }
   ],
   "source": [
    "summary(groceryrules)"
   ]
  },
  {
   "cell_type": "markdown",
   "metadata": {},
   "source": [
    "Viewing the first three rules"
   ]
  },
  {
   "cell_type": "code",
   "execution_count": 34,
   "metadata": {
    "collapsed": false,
    "scrolled": false
   },
   "outputs": [
    {
     "name": "stdout",
     "output_type": "stream",
     "text": [
      "    lhs                                                              rhs                                                               support confidence     lift\n",
      "[1] {PEG-INTERFERON ALFA 2A}                                      => {RIBAVIRIN.}                                                  0.001065530  0.9375000  16.4662\n",
      "[2] {LOW CALCIUM PERITONEAL DIALYSIS SOLUTION WITH 1.5% DEXTROSE} => {LOW CALCIUM PERITONEAL DIALYSIS SOLUTION WITH 2.5% DEXTROSE} 0.001101048  0.8157895 478.5115\n",
      "[3] {LOW CALCIUM PERITONEAL DIALYSIS SOLUTION WITH 2.5% DEXTROSE} => {LOW CALCIUM PERITONEAL DIALYSIS SOLUTION WITH 1.5% DEXTROSE} 0.001101048  0.6458333 478.5115\n"
     ]
    }
   ],
   "source": [
    "inspect(groceryrules[1:3])"
   ]
  },
  {
   "cell_type": "markdown",
   "metadata": {},
   "source": [
    "Sorting the rules according to lift (all the 231 rules)"
   ]
  },
  {
   "cell_type": "code",
   "execution_count": 35,
   "metadata": {
    "collapsed": false,
    "scrolled": true
   },
   "outputs": [
    {
     "name": "stdout",
     "output_type": "stream",
     "text": [
      "      lhs                                                                 rhs                                                                  support confidence       lift\n",
      "[1]   {CYCLOPHOSPHOMIDE}                                               => {G-CSF}                                                          0.001172083  1.0000000 563.100000\n",
      "[2]   {G-CSF}                                                          => {CYCLOPHOSPHOMIDE}                                               0.001172083  0.6600000 563.100000\n",
      "[3]   {PYRAZINAMIDE.}                                                  => {ETHAMBUTOL}                                                     0.001278636  0.8780488 537.423118\n",
      "[4]   {ETHAMBUTOL}                                                     => {PYRAZINAMIDE.}                                                  0.001278636  0.7826087 537.423118\n",
      "[5]   {PYRAZINAMIDE.}                                                  => {RIFAMPICIN}                                                     0.001136565  0.7804878 511.038003\n",
      "[6]   {RIFAMPICIN}                                                     => {PYRAZINAMIDE.}                                                  0.001136565  0.7441860 511.038003\n",
      "[7]   {IFEX}                                                           => {MESNA FOR INJECTION 1 GRAM}                                     0.001846919  1.0000000 502.767857\n",
      "[8]   {MESNA FOR INJECTION 1 GRAM}                                     => {IFEX}                                                           0.001846919  0.9285714 502.767857\n",
      "[9]   {RIFAMPICIN}                                                     => {ETHAMBUTOL}                                                     0.001243118  0.8139535 498.192619\n",
      "[10]  {ETHAMBUTOL}                                                     => {RIFAMPICIN}                                                     0.001243118  0.7608696 498.192619\n",
      "[11]  {LOW CALCIUM PERITONEAL DIALYSIS SOLUTION WITH 1.5% DEXTROSE}    => {LOW CALCIUM PERITONEAL DIALYSIS SOLUTION WITH 2.5% DEXTROSE}    0.001101048  0.8157895 478.511513\n",
      "[12]  {LOW CALCIUM PERITONEAL DIALYSIS SOLUTION WITH 2.5% DEXTROSE}    => {LOW CALCIUM PERITONEAL DIALYSIS SOLUTION WITH 1.5% DEXTROSE}    0.001101048  0.6458333 478.511513\n",
      "[13]  {CYCLOPHOSPHOMIDE}                                               => {TOPOTECAN}                                                      0.001172083  1.0000000 454.112903\n",
      "[14]  {TOPOTECAN}                                                      => {CYCLOPHOSPHOMIDE}                                               0.001172083  0.5322581 454.112903\n",
      "[15]  {PYRAZINAMIDE.}                                                  => {ISONIAZID.}                                                     0.001349671  0.9268293 427.784886\n",
      "[16]  {ISONIAZID.}                                                     => {PYRAZINAMIDE.}                                                  0.001349671  0.6229508 427.784886\n",
      "[17]  {ISONIAZID.}                                                     => {RIFAMPICIN}                                                     0.001314154  0.6065574 397.154022\n",
      "[18]  {RIFAMPICIN}                                                     => {ISONIAZID.}                                                     0.001314154  0.8604651 397.154022\n",
      "[19]  {ISONIAZID.}                                                     => {ETHAMBUTOL}                                                     0.001314154  0.6065574 371.252673\n",
      "[20]  {ETHAMBUTOL}                                                     => {ISONIAZID.}                                                     0.001314154  0.8043478 371.252673\n",
      "[21]  {TOPOTECAN}                                                      => {G-CSF}                                                          0.001172083  0.5322581 299.714516\n",
      "[22]  {G-CSF}                                                          => {TOPOTECAN}                                                      0.001172083  0.6600000 299.714516\n",
      "[23]  {COMBIGAN}                                                       => {LUMIGAN}                                                        0.001314154  0.7115385 286.190934\n",
      "[24]  {LUMIGAN}                                                        => {COMBIGAN}                                                       0.001314154  0.5285714 286.190934\n",
      "[25]  {GATTEX}                                                         => {TPN}                                                            0.001988990  0.6086957 285.630435\n",
      "[26]  {TPN}                                                            => {GATTEX}                                                         0.001988990  0.9333333 285.630435\n",
      "[27]  {SANDOSTATIN}                                                    => {SANDOSTATIN LAR DEPOT}                                          0.001065530  0.6000000 259.892308\n",
      "[28]  {SANDOSTATIN LAR DEPOT}                                          => {SANDOSTATIN}                                                    0.001065530  0.4615385 259.892308\n",
      "[29]  {TRAMETINIB}                                                     => {DABRAFENIB}                                                     0.003729355  0.9633028 248.823752\n",
      "[30]  {DABRAFENIB}                                                     => {TRAMETINIB}                                                     0.003729355  0.9633028 248.823752\n",
      "[31]  {5-FLUOROURACIL}                                                 => {CYCLOPHOSPHAMIDE FOR INJECTION USP}                             0.002663825  0.8522727 242.381198\n",
      "[32]  {CYCLOPHOSPHAMIDE FOR INJECTION USP}                             => {5-FLUOROURACIL}                                                 0.002663825  0.7575758 242.381198\n",
      "[33]  {SUNVEPRA}                                                       => {DAKLINZA}                                                       0.003977979  0.9911504 238.511459\n",
      "[34]  {DAKLINZA}                                                       => {SUNVEPRA}                                                       0.003977979  0.9572650 238.511459\n",
      "[35]  {BENICAR HCT}                                                    => {BENICAR}                                                        0.001527260  0.7413793 217.432651\n",
      "[36]  {BENICAR}                                                        => {BENICAR HCT}                                                    0.001527260  0.4479167 217.432651\n",
      "[37]  {EPIRUBICIN}                                                     => {ENDOXAN BAXTER}                                                 0.001101048  0.4843750 194.822545\n",
      "[38]  {ENDOXAN BAXTER}                                                 => {EPIRUBICIN}                                                     0.001101048  0.4428571 194.822545\n",
      "[39]  {EXVIERA}                                                        => {VIEKIRAX}                                                       0.005469721  1.0000000 166.597633\n",
      "[40]  {VIEKIRAX}                                                       => {EXVIERA}                                                        0.005469721  0.9112426 166.597633\n",
      "[41]  {STRIANT}                                                        => {TESTOPEL}                                                       0.005789380  0.9878788 164.578268\n",
      "[42]  {TESTOPEL}                                                       => {STRIANT}                                                        0.005789380  0.9644970 164.578268\n",
      "[43]  {STRIANT}                                                        => {DELATESTRYL}                                                    0.005789380  0.9878788 159.849007\n",
      "[44]  {DELATESTRYL}                                                    => {STRIANT}                                                        0.005789380  0.9367816 159.849007\n",
      "[45]  {STRIANT}                                                        => {FORTESTA}                                                       0.005789380  0.9878788 158.935584\n",
      "[46]  {FORTESTA}                                                       => {STRIANT}                                                        0.005789380  0.9314286 158.935584\n",
      "[47]  {TESTOPEL}                                                       => {DELATESTRYL}                                                    0.005789380  0.9644970 156.065599\n",
      "[48]  {DELATESTRYL}                                                    => {TESTOPEL}                                                       0.005789380  0.9367816 156.065599\n",
      "[49]  {TESTOPEL}                                                       => {FORTESTA}                                                       0.005789380  0.9644970 155.173795\n",
      "[50]  {FORTESTA}                                                       => {TESTOPEL}                                                       0.005789380  0.9314286 155.173795\n",
      "[51]  {FORTESTA}                                                       => {DELATESTRYL}                                                    0.005789380  0.9314286 150.714778\n",
      "[52]  {DELATESTRYL}                                                    => {FORTESTA}                                                       0.005789380  0.9367816 150.714778\n",
      "[53]  {NORETHINDRONE ACETATE.}                                         => {LUPRON DEPOT}                                                   0.001740366  1.0000000 139.381188\n",
      "[54]  {STRIANT}                                                        => {AXIRON}                                                         0.005789380  0.9878788 133.719843\n",
      "[55]  {AXIRON}                                                         => {STRIANT}                                                        0.005789380  0.7836538 133.719843\n",
      "[56]  {TESTOPEL}                                                       => {AXIRON}                                                         0.005895933  0.9822485 132.957726\n",
      "[57]  {AXIRON}                                                         => {TESTOPEL}                                                       0.005895933  0.7980769 132.957726\n",
      "[58]  {FORTESTA}                                                       => {AXIRON}                                                         0.005895933  0.9485714 128.399176\n",
      "[59]  {AXIRON}                                                         => {FORTESTA}                                                       0.005895933  0.7980769 128.399176\n",
      "[60]  {AXIRON}                                                         => {DELATESTRYL}                                                    0.005789380  0.7836538 126.803299\n",
      "[61]  {DELATESTRYL}                                                    => {AXIRON}                                                         0.005789380  0.9367816 126.803299\n",
      "[62]  {STRIANT}                                                        => {ANDRODERM}                                                      0.005789380  0.9878788 126.426033\n",
      "[63]  {ANDRODERM}                                                      => {STRIANT}                                                        0.005789380  0.7409091 126.426033\n",
      "[64]  {TESTOPEL}                                                       => {ANDRODERM}                                                      0.005860416  0.9763314 124.948225\n",
      "[65]  {ANDRODERM}                                                      => {TESTOPEL}                                                       0.005860416  0.7500000 124.948225\n",
      "[66]  {DELATESTRYL}                                                    => {ANDRODERM}                                                      0.006002486  0.9712644 124.299765\n",
      "[67]  {ANDRODERM}                                                      => {DELATESTRYL}                                                    0.006002486  0.7681818 124.299765\n",
      "[68]  {FORTESTA}                                                       => {ANDRODERM}                                                      0.005860416  0.9428571 120.664286\n",
      "[69]  {ANDRODERM}                                                      => {FORTESTA}                                                       0.005860416  0.7500000 120.664286\n",
      "[70]  {PROGRAF}                                                        => {CELLCEPT}                                                       0.001101048  0.3924051 117.533665\n",
      "[71]  {CELLCEPT}                                                       => {PROGRAF}                                                        0.001101048  0.3297872 117.533665\n",
      "[72]  {DELATESTRYL}                                                    => {DEPO-TESTOSTERONE}                                              0.005434204  0.8793103 111.517940\n",
      "[73]  {DEPO-TESTOSTERONE}                                              => {DELATESTRYL}                                                    0.005434204  0.6891892 111.517940\n",
      "[74]  {STRIANT}                                                        => {DEPO-TESTOSTERONE}                                              0.005150062  0.8787879 111.451679\n",
      "[75]  {DEPO-TESTOSTERONE}                                              => {STRIANT}                                                        0.005150062  0.6531532 111.451679\n",
      "[76]  {TESTOPEL}                                                       => {DEPO-TESTOSTERONE}                                              0.005256615  0.8757396 111.065089\n",
      "[77]  {DEPO-TESTOSTERONE}                                              => {TESTOPEL}                                                       0.005256615  0.6666667 111.065089\n",
      "[78]  {TESTIM}                                                         => {STRIANT}                                                        0.005824898  0.6482213 110.610133\n",
      "[79]  {STRIANT}                                                        => {TESTIM}                                                         0.005824898  0.9939394 110.610133\n",
      "[80]  {TESTIM}                                                         => {TESTOPEL}                                                       0.005860416  0.6521739 108.650630\n",
      "[81]  {TESTOPEL}                                                       => {TESTIM}                                                         0.005860416  0.9763314 108.650630\n",
      "[82]  {IFEX}                                                           => {ETOPOSIDE.}                                                     0.001846919  1.0000000 108.288462\n",
      "[83]  {EXEMESTANE.}                                                    => {AFINITOR}                                                       0.001846919  0.6933333 107.849724\n",
      "[84]  {AFINITOR}                                                       => {EXEMESTANE.}                                                    0.001846919  0.2872928 107.849724\n",
      "[85]  {TESTIM}                                                         => {FORTESTA}                                                       0.005966969  0.6640316 106.833202\n",
      "[86]  {FORTESTA}                                                       => {TESTIM}                                                         0.005966969  0.9600000 106.833202\n",
      "[87]  {MEKINIST}                                                       => {TAFINLAR}                                                       0.009021488  0.9883268 106.614339\n",
      "[88]  {TAFINLAR}                                                       => {MEKINIST}                                                       0.009021488  0.9731801 106.614339\n",
      "[89]  {DEPO-TESTOSTERONE}                                              => {FORTESTA}                                                       0.005221097  0.6621622 106.532432\n",
      "[90]  {FORTESTA}                                                       => {DEPO-TESTOSTERONE}                                              0.005221097  0.8400000 106.532432\n",
      "[91]  {TESTIM}                                                         => {DELATESTRYL}                                                    0.005824898  0.6482213 104.888919\n",
      "[92]  {DELATESTRYL}                                                    => {TESTIM}                                                         0.005824898  0.9425287 104.888919\n",
      "[93]  {ANDRODERM}                                                      => {AXIRON}                                                         0.005966969  0.7636364 103.366259\n",
      "[94]  {AXIRON}                                                         => {ANDRODERM}                                                      0.005966969  0.8076923 103.366259\n",
      "[95]  {MESNA FOR INJECTION 1 GRAM}                                     => {ETOPOSIDE.}                                                     0.001846919  0.9285714 100.553571\n",
      "[96]  {AXIRON}                                                         => {TESTIM}                                                         0.006570769  0.8894231  98.979078\n",
      "[97]  {TESTIM}                                                         => {AXIRON}                                                         0.006570769  0.7312253  98.979078\n",
      "[98]  {DEPO-TESTOSTERONE}                                              => {AXIRON}                                                         0.005611792  0.7117117  96.337708\n",
      "[99]  {AXIRON}                                                         => {DEPO-TESTOSTERONE}                                              0.005611792  0.7596154  96.337708\n",
      "[100] {STRIANT}                                                        => {ANDROGEL}                                                       0.005860416  1.0000000  93.538206\n",
      "[101] {ANDROGEL}                                                       => {STRIANT}                                                        0.005860416  0.5481728  93.538206\n",
      "[102] {ABRAXANE}                                                       => {GEMCITABINE}                                                    0.002699343  0.6080000  93.033913\n",
      "[103] {GEMCITABINE}                                                    => {ABRAXANE}                                                       0.002699343  0.4130435  93.033913\n",
      "[104] {CYCLOPHOSPHOMIDE}                                               => {CARBOPLATIN.}                                                   0.001172083  1.0000000  92.920792\n",
      "[105] {IFEX}                                                           => {CARBOPLATIN.}                                                   0.001846919  1.0000000  92.920792\n",
      "[106] {TESTOPEL}                                                       => {ANDROGEL}                                                       0.005895933  0.9822485  91.877764\n",
      "[107] {ANDROGEL}                                                       => {TESTOPEL}                                                       0.005895933  0.5514950  91.877764\n",
      "[108] {DELATESTRYL}                                                    => {ANDROGEL}                                                       0.006038004  0.9770115  91.387902\n",
      "[109] {ANDROGEL}                                                       => {DELATESTRYL}                                                    0.006038004  0.5647841  91.387902\n",
      "[110] {DEPO-TESTOSTERONE}                                              => {ANDRODERM}                                                      0.005611792  0.7117117  91.082924\n",
      "[111] {ANDRODERM}                                                      => {DEPO-TESTOSTERONE}                                              0.005611792  0.7181818  91.082924\n",
      "[112] {FORTESTA}                                                       => {ANDROGEL}                                                       0.006002486  0.9657143  90.331182\n",
      "[113] {ANDROGEL}                                                       => {FORTESTA}                                                       0.006002486  0.5614618  90.331182\n",
      "[114] {ANDRODERM}                                                      => {TESTIM}                                                         0.006180075  0.7909091  88.015990\n",
      "[115] {TESTIM}                                                         => {ANDRODERM}                                                      0.006180075  0.6877470  88.015990\n",
      "[116] {AROMASIN}                                                       => {AFINITOR}                                                       0.001243118  0.5645161  87.811887\n",
      "[117] {MESNA FOR INJECTION 1 GRAM}                                     => {CARBOPLATIN.}                                                   0.001846919  0.9285714  86.283593\n",
      "[118] {ANDRODERM}                                                      => {ANDROGEL}                                                       0.007139052  0.9136364  85.459906\n",
      "[119] {ANDROGEL}                                                       => {ANDRODERM}                                                      0.007139052  0.6677741  85.459906\n",
      "[120] {AXIRON}                                                         => {ANDROGEL}                                                       0.006677322  0.9038462  84.544148\n",
      "[121] {ANDROGEL}                                                       => {AXIRON}                                                         0.006677322  0.6245847  84.544148\n",
      "[122] {TESTIM}                                                         => {DEPO-TESTOSTERONE}                                              0.005860416  0.6521739  82.711516\n",
      "[123] {DEPO-TESTOSTERONE}                                              => {TESTIM}                                                         0.005860416  0.7432432  82.711516\n",
      "[124] {ANDROGEL}                                                       => {DEPO-TESTOSTERONE}                                              0.006925946  0.6478405  82.161938\n",
      "[125] {DEPO-TESTOSTERONE}                                              => {ANDROGEL}                                                       0.006925946  0.8783784  82.161938\n",
      "[126] {5-FLUOROURACIL}                                                 => {DOXORUBICIN}                                                    0.002699343  0.8636364  81.870983\n",
      "[127] {DOXORUBICIN}                                                    => {5-FLUOROURACIL}                                                 0.002699343  0.2558923  81.870983\n",
      "[128] {TESTIM}                                                         => {ANDROGEL}                                                       0.007707334  0.8577075  80.228422\n",
      "[129] {ANDROGEL}                                                       => {TESTIM}                                                         0.007707334  0.7209302  80.228422\n",
      "[130] {ABILIFY MAINTENA}                                               => {ABILIFY}                                                        0.002202096  0.7469880  79.065586\n",
      "[131] {CYCLOPHOSPHAMIDE FOR INJECTION USP}                             => {DOXORUBICIN}                                                    0.002912449  0.8282828  78.519539\n",
      "[132] {DOXORUBICIN}                                                    => {CYCLOPHOSPHAMIDE FOR INJECTION USP}                             0.002912449  0.2760943  78.519539\n",
      "[133] {IFOSFAMIDE.}                                                    => {ETOPOSIDE.}                                                     0.001420707  0.6896552  74.681698\n",
      "[134] {IFEX}                                                           => {RITUXIMAB}                                                      0.001846919  1.0000000  74.484127\n",
      "[135] {IFOSFAMIDE.}                                                    => {VINCRISTINE}                                                    0.001136565  0.5517241  71.255932\n",
      "[136] {FLUDARABINE}                                                    => {CYCLOPHOSPHAMIDE.}                                              0.001953472  0.6321839  70.352324\n",
      "[137] {CYCLOPHOSPHOMIDE}                                               => {CISPLATIN.}                                                     0.001172083  1.0000000  69.863524\n",
      "[138] {MESNA FOR INJECTION 1 GRAM}                                     => {RITUXIMAB}                                                      0.001846919  0.9285714  69.163832\n",
      "[139] {LENADEX}                                                        => {REVLIMID}                                                       0.001775884  0.7812500  63.756793\n",
      "[140] {LETAIRIS}                                                       => {REMODULIN}                                                      0.001562777  0.5057471  63.005798\n",
      "[141] {SUBUTEX}                                                        => {SUBOXONE}                                                       0.001030012  0.4833333  62.710829\n",
      "[142] {G-CSF}                                                          => {CARBOPLATIN.}                                                   0.001172083  0.6600000  61.327723\n",
      "[143] {TOPOTECAN}                                                      => {CARBOPLATIN.}                                                   0.001314154  0.5967742  55.452731\n",
      "[144] {VINCRISTINE}                                                    => {CYCLOPHOSPHAMIDE.}                                              0.003729355  0.4816514  53.600373\n",
      "[145] {CYCLOPHOSPHAMIDE.}                                              => {VINCRISTINE}                                                    0.003729355  0.4150198  53.600373\n",
      "[146] {ENDOXAN BAXTER}                                                 => {VINCRISTINE}                                                    0.001030012  0.4142857  53.505570\n",
      "[147] {IDELALISIB}                                                     => {RITUXIMAB}                                                      0.001385189  0.6964286  51.872874\n",
      "[148] {LANTUS SOLOSTAR}                                                => {SOLOSTAR}                                                       0.008701829  0.9760956  49.250846\n",
      "[149] {SOLOSTAR}                                                       => {LANTUS SOLOSTAR}                                                0.008701829  0.4390681  49.250846\n",
      "[150] {TOPOTECAN}                                                      => {CISPLATIN.}                                                     0.001527260  0.6935484  48.453734\n",
      "[151] {BIOTIN}                                                         => {WOMENS ROGAINE UNSCENTED}                                       0.001633813  0.3865546  46.911402\n",
      "[152] {G-CSF}                                                          => {CISPLATIN.}                                                     0.001172083  0.6600000  46.109926\n",
      "[153] {SOLOSTAR}                                                       => {TOUJEO}                                                         0.012218078  0.6164875  46.040330\n",
      "[154] {TOUJEO}                                                         => {SOLOSTAR}                                                       0.012218078  0.9124668  46.040330\n",
      "[155] {ADEMPAS}                                                        => {AMBRISENTAN}                                                    0.001065530  0.3797468  45.887434\n",
      "[156] {TAXOL}                                                          => {CARBOPLATIN.}                                                   0.001065530  0.4761905  44.247996\n",
      "[157] {DOXORUBICIN}                                                    => {VINCRISTINE}                                                    0.003445214  0.3265993  42.180752\n",
      "[158] {VINCRISTINE}                                                    => {DOXORUBICIN}                                                    0.003445214  0.4449541  42.180752\n",
      "[159] {NOVORAPID}                                                      => {LANTUS}                                                         0.001136565  0.4923077  40.887679\n",
      "[160] {ENDOXAN BAXTER}                                                 => {RITUXIMAB}                                                      0.001278636  0.5142857  38.306122\n",
      "[161] {REMODULIN}                                                      => {REVATIO}                                                        0.002805896  0.3495575  37.853046\n",
      "[162] {REVATIO}                                                        => {REMODULIN}                                                      0.002805896  0.3038462  37.853046\n",
      "[163] {NOVOLOG}                                                        => {LANTUS}                                                         0.002841414  0.4469274  37.118703\n",
      "[164] {TYVASO}                                                         => {AMBRISENTAN}                                                    0.001775884  0.3067485  37.066537\n",
      "[165] {AMPYRA}                                                         => {TECFIDERA}                                                      0.001953472  0.2835052  36.282216\n",
      "[166] {TECFIDERA}                                                      => {AMPYRA}                                                         0.001953472  0.2500000  36.282216\n",
      "[167] {AMBRISENTAN}                                                    => {REVATIO}                                                        0.002770378  0.3347639  36.251073\n",
      "[168] {REVATIO}                                                        => {AMBRISENTAN}                                                    0.002770378  0.3000000  36.251073\n",
      "[169] {LETAIRIS}                                                       => {REVATIO}                                                        0.001030012  0.3333333  36.096154\n",
      "[170] {FLUDARABINE}                                                    => {RITUXIMAB}                                                      0.001491742  0.4827586  35.957854\n",
      "[171] {TRACLEER}                                                       => {REMODULIN}                                                      0.001420707  0.2721088  33.899223\n",
      "[172] {ETOPOSIDE.}                                                     => {CARBOPLATIN.}                                                   0.003303143  0.3576923  33.237053\n",
      "[173] {CARBOPLATIN.}                                                   => {ETOPOSIDE.}                                                     0.003303143  0.3069307  33.237053\n",
      "[174] {AMBRISENTAN}                                                    => {REMODULIN}                                                      0.002202096  0.2660944  33.149949\n",
      "[175] {REMODULIN}                                                      => {AMBRISENTAN}                                                    0.002202096  0.2743363  33.149949\n",
      "[176] {CYCLOPHOSPHAMIDE.}                                              => {DOXORUBICIN}                                                    0.003019002  0.3359684  31.849124\n",
      "[177] {DOXORUBICIN}                                                    => {CYCLOPHOSPHAMIDE.}                                              0.003019002  0.2861953  31.849124\n",
      "[178] {OPSUMIT}                                                        => {REVATIO}                                                        0.001314154  0.2868217  31.059481\n",
      "[179] {AMPYRA}                                                         => {GILENYA}                                                        0.001811401  0.2628866  30.459145\n",
      "[180] {TYVASO}                                                         => {REVATIO}                                                        0.001598295  0.2760736  29.895588\n",
      "[181] {DIANEAL W/ DEXTROSE 2.5%}                                       => {DIANEAL LOW CALCIUM PERITONEAL DIALYSIS SOLUTION WITH DEXTROSE} 0.001065530  0.7894737  29.440572\n",
      "[182] {VINCRISTINE}                                                    => {RITUXIMAB}                                                      0.003054520  0.3944954  29.383646\n",
      "[183] {METHOTREXATE (METHOTREXATE SODIUM)}                             => {ENBREL}                                                         0.002592790  0.6886792  29.157540\n",
      "[184] {DIANEAL LOW CALCIUM PERITONEAL DIALYSIS SOLUTION WITH DEXTROSE} => {EXTRANEAL}                                                      0.023441662  0.8741722  27.779140\n",
      "[185] {EXTRANEAL}                                                      => {DIANEAL LOW CALCIUM PERITONEAL DIALYSIS SOLUTION WITH DEXTROSE} 0.023441662  0.7449210  27.779140\n",
      "[186] {DIANEAL}                                                        => {EXTRANEAL}                                                      0.002450719  0.8734177  27.755165\n",
      "[187] {CISPLATIN.}                                                     => {ETOPOSIDE.}                                                     0.003622802  0.2531017  27.407998\n",
      "[188] {ETOPOSIDE.}                                                     => {CISPLATIN.}                                                     0.003622802  0.3923077  27.407998\n",
      "[189] {INVOKANA}                                                       => {INSULIN}                                                        0.001101048  0.2540984  23.767905\n",
      "[190] {CYCLOPHOSPHAMIDE.}                                              => {RITUXIMAB}                                                      0.002734861  0.3043478  22.669082\n",
      "[191] {ETOPOSIDE.}                                                     => {RITUXIMAB}                                                      0.002628308  0.2846154  21.199328\n",
      "[192] {LANTUS}                                                         => {TOUJEO}                                                         0.003196590  0.2654867  19.826999\n",
      "[193] {BEVACIZUMAB}                                                    => {CISPLATIN.}                                                     0.001030012  0.2612613  18.252632\n",
      "[194] {DIANEAL PD-2 WITH DEXTROSE}                                     => {DIANEAL LOW CALCIUM PERITONEAL DIALYSIS SOLUTION WITH DEXTROSE} 0.001953472  0.4700855  17.530141\n",
      "[195] {GEMCITABINE}                                                    => {CISPLATIN.}                                                     0.001633813  0.2500000  17.465881\n",
      "[196] {ENDOXAN BAXTER}                                                 => {PREDNISONE.}                                                    0.001314154  0.5285714  16.683776\n",
      "[197] {PEG-INTERFERON ALFA 2A}                                         => {RIBAVIRIN.}                                                     0.001065530  0.9375000  16.466196\n",
      "[198] {SOVRIAD}                                                        => {RIBAVIRIN.}                                                     0.001633813  0.9200000  16.158827\n",
      "[199] {DIANEAL PD-2 WITH DEXTROSE}                                     => {EXTRANEAL}                                                      0.002095543  0.5042735  16.024628\n",
      "[200] {VINCRISTINE}                                                    => {PREDNISONE.}                                                    0.003906944  0.5045872  15.926739\n",
      "[201] {LANTUS}                                                         => {SOLOSTAR}                                                       0.003338661  0.2772861  13.991024\n",
      "[202] {RIBASPHERE RIBAPAK}                                             => {PEGASYS}                                                        0.004120050  0.9508197  13.097029\n",
      "[203] {COPEGUS}                                                        => {PEGASYS}                                                        0.016941929  0.9426877  12.985016\n",
      "[204] {RIBASPHERE}                                                     => {PEGASYS}                                                        0.005611792  0.9349112  12.877899\n",
      "[205] {TELAPREVIR}                                                     => {RIBAVIRIN.}                                                     0.001491742  0.6885246  12.093206\n",
      "[206] {VITAMIN D}                                                      => {CALCIUM}                                                        0.012253596  0.3960964  11.230710\n",
      "[207] {CALCIUM}                                                        => {VITAMIN D}                                                      0.012253596  0.3474320  11.230710\n",
      "[208] {PEGASYS}                                                        => {RIBAVIRIN.}                                                     0.045853312  0.6316047  11.093469\n",
      "[209] {RIBAVIRIN.}                                                     => {PEGASYS}                                                        0.045853312  0.8053649  11.093469\n",
      "[210] {VIEKIRA PAK}                                                    => {RIBAVIRIN.}                                                     0.003090037  0.6000000  10.538366\n",
      "[211] {VITAMIN C}                                                      => {VITAMIN D}                                                      0.002308649  0.3155340  10.199609\n",
      "[212] {MAGNESIUM}                                                      => {CALCIUM}                                                        0.001633813  0.3407407   9.661184\n",
      "[213] {RITUXAN}                                                        => {PREDNISONE.}                                                    0.001101048  0.3009709   9.499815\n",
      "[214] {TELAPREVIR}                                                     => {PEGASYS}                                                        0.001491742  0.6885246   9.484056\n",
      "[215] {ANALGESICS}                                                     => {FORTEO}                                                         0.003409696  0.9230769   9.242258\n",
      "[216] {EVISTA}                                                         => {FORTEO}                                                         0.004546262  0.8888889   8.899953\n",
      "[217] {CYCLOPHOSPHAMIDE.}                                              => {PREDNISONE.}                                                    0.002521755  0.2806324   8.857854\n",
      "[218] {BONIVA}                                                         => {FORTEO}                                                         0.001669330  0.8703704   8.714537\n",
      "[219] {RITUXIMAB}                                                      => {PREDNISONE.}                                                    0.003445214  0.2566138   8.099731\n",
      "[220] {FISH OIL}                                                       => {VITAMIN D}                                                      0.002131060  0.2500000   8.081228\n",
      "[221] {CALCIUM}                                                        => {FORTEO}                                                         0.025110993  0.7119839   7.128701\n",
      "[222] {FORTEO}                                                         => {CALCIUM}                                                        0.025110993  0.2514225   7.128701\n",
      "[223] {RECLAST}                                                        => {FORTEO}                                                         0.001491742  0.7118644   7.127504\n",
      "[224] {ANTIHYPERTENSIVES}                                              => {FORTEO}                                                         0.002415202  0.6732673   6.741053\n",
      "[225] {ANTIBIOTICS}                                                    => {FORTEO}                                                         0.001740366  0.6447368   6.455393\n",
      "[226] {VIEKIRAX}                                                       => {RIBAVIRIN.}                                                     0.002131060  0.3550296   6.235719\n",
      "[227] {EXVIERA}                                                        => {RIBAVIRIN.}                                                     0.001882437  0.3441558   6.044733\n",
      "[228] {FOSAMAX}                                                        => {FORTEO}                                                         0.002308649  0.5327869   5.334500\n",
      "[229] {VITAMIN D}                                                      => {FORTEO}                                                         0.016231575  0.5246843   5.253373\n",
      "[230] {VITAMINS}                                                       => {FORTEO}                                                         0.002095543  0.4338235   4.343635\n",
      "[231] {BABY ASPIRIN}                                                   => {FORTEO}                                                         0.001207601  0.2857143   2.860699\n"
     ]
    }
   ],
   "source": [
    "inspect(sort(groceryrules, by = 'lift')[1:231])"
   ]
  },
  {
   "cell_type": "markdown",
   "metadata": {},
   "source": [
    "Finding rules with specific items"
   ]
  },
  {
   "cell_type": "markdown",
   "metadata": {},
   "source": [
    "For example based on a drug item name, we can find the other drugs associated with this item and have an idea of the patient diseases.\n",
    "\n",
    "These are listed as follows."
   ]
  },
  {
   "cell_type": "code",
   "execution_count": 36,
   "metadata": {
    "collapsed": true
   },
   "outputs": [],
   "source": [
    "tuberculosisrules <- subset(groceryrules, items %in% 'PYRAZINAMIDE.')"
   ]
  },
  {
   "cell_type": "code",
   "execution_count": 37,
   "metadata": {
    "collapsed": false,
    "scrolled": false
   },
   "outputs": [
    {
     "name": "stdout",
     "output_type": "stream",
     "text": [
      "    lhs                rhs             support     confidence lift    \n",
      "[1] {PYRAZINAMIDE.} => {RIFAMPICIN}    0.001136565 0.7804878  511.0380\n",
      "[2] {RIFAMPICIN}    => {PYRAZINAMIDE.} 0.001136565 0.7441860  511.0380\n",
      "[3] {PYRAZINAMIDE.} => {ETHAMBUTOL}    0.001278636 0.8780488  537.4231\n",
      "[4] {ETHAMBUTOL}    => {PYRAZINAMIDE.} 0.001278636 0.7826087  537.4231\n",
      "[5] {PYRAZINAMIDE.} => {ISONIAZID.}    0.001349671 0.9268293  427.7849\n",
      "[6] {ISONIAZID.}    => {PYRAZINAMIDE.} 0.001349671 0.6229508  427.7849\n"
     ]
    }
   ],
   "source": [
    "inspect(tuberculosisrules)"
   ]
  },
  {
   "cell_type": "markdown",
   "metadata": {},
   "source": [
    "Same for patients undergoing cancer"
   ]
  },
  {
   "cell_type": "code",
   "execution_count": 38,
   "metadata": {
    "collapsed": true
   },
   "outputs": [],
   "source": [
    "cancererules <- subset(groceryrules, items %in% 'DOXORUBICIN')\n"
   ]
  },
  {
   "cell_type": "code",
   "execution_count": 39,
   "metadata": {
    "collapsed": false,
    "scrolled": true
   },
   "outputs": [
    {
     "name": "stdout",
     "output_type": "stream",
     "text": [
      "    lhs                                    \n",
      "[1] {5-FLUOROURACIL}                     =>\n",
      "[2] {DOXORUBICIN}                        =>\n",
      "[3] {CYCLOPHOSPHAMIDE FOR INJECTION USP} =>\n",
      "[4] {DOXORUBICIN}                        =>\n",
      "[5] {CYCLOPHOSPHAMIDE.}                  =>\n",
      "[6] {DOXORUBICIN}                        =>\n",
      "[7] {VINCRISTINE}                        =>\n",
      "[8] {DOXORUBICIN}                        =>\n",
      "    rhs                                  support     confidence lift    \n",
      "[1] {DOXORUBICIN}                        0.002699343 0.8636364  81.87098\n",
      "[2] {5-FLUOROURACIL}                     0.002699343 0.2558923  81.87098\n",
      "[3] {DOXORUBICIN}                        0.002912449 0.8282828  78.51954\n",
      "[4] {CYCLOPHOSPHAMIDE FOR INJECTION USP} 0.002912449 0.2760943  78.51954\n",
      "[5] {DOXORUBICIN}                        0.003019002 0.3359684  31.84912\n",
      "[6] {CYCLOPHOSPHAMIDE.}                  0.003019002 0.2861953  31.84912\n",
      "[7] {DOXORUBICIN}                        0.003445214 0.4449541  42.18075\n",
      "[8] {VINCRISTINE}                        0.003445214 0.3265993  42.18075\n"
     ]
    }
   ],
   "source": [
    "inspect(cancererules)"
   ]
  },
  {
   "cell_type": "code",
   "execution_count": 40,
   "metadata": {
    "collapsed": true
   },
   "outputs": [],
   "source": [
    "cancererules2 <- subset(groceryrules, items %in% 'ENDOXAN BAXTER')\n"
   ]
  },
  {
   "cell_type": "code",
   "execution_count": 41,
   "metadata": {
    "collapsed": false,
    "scrolled": true
   },
   "outputs": [
    {
     "name": "stdout",
     "output_type": "stream",
     "text": [
      "    lhs                 rhs              support     confidence lift     \n",
      "[1] {EPIRUBICIN}     => {ENDOXAN BAXTER} 0.001101048 0.4843750  194.82254\n",
      "[2] {ENDOXAN BAXTER} => {EPIRUBICIN}     0.001101048 0.4428571  194.82254\n",
      "[3] {ENDOXAN BAXTER} => {VINCRISTINE}    0.001030012 0.4142857   53.50557\n",
      "[4] {ENDOXAN BAXTER} => {RITUXIMAB}      0.001278636 0.5142857   38.30612\n",
      "[5] {ENDOXAN BAXTER} => {PREDNISONE.}    0.001314154 0.5285714   16.68378\n"
     ]
    }
   ],
   "source": [
    "inspect(cancererules2)"
   ]
  },
  {
   "cell_type": "code",
   "execution_count": 42,
   "metadata": {
    "collapsed": true
   },
   "outputs": [],
   "source": [
    "hepatiteCrules <- subset(groceryrules, items %in% 'VIEKIRAX')"
   ]
  },
  {
   "cell_type": "code",
   "execution_count": 43,
   "metadata": {
    "collapsed": false
   },
   "outputs": [
    {
     "name": "stdout",
     "output_type": "stream",
     "text": [
      "    lhs           rhs          support     confidence lift      \n",
      "[1] {EXVIERA}  => {VIEKIRAX}   0.005469721 1.0000000  166.597633\n",
      "[2] {VIEKIRAX} => {EXVIERA}    0.005469721 0.9112426  166.597633\n",
      "[3] {VIEKIRAX} => {RIBAVIRIN.} 0.002131060 0.3550296    6.235719\n"
     ]
    }
   ],
   "source": [
    "inspect(hepatiteCrules)"
   ]
  },
  {
   "cell_type": "code",
   "execution_count": 44,
   "metadata": {
    "collapsed": true
   },
   "outputs": [],
   "source": [
    "#write(groceryrules, file = 'submission_groceryrules.csv',\n",
    "#     sep = ',', quote =TRUE, row.names = FALSE)"
   ]
  },
  {
   "cell_type": "code",
   "execution_count": 45,
   "metadata": {
    "collapsed": true
   },
   "outputs": [],
   "source": [
    "#groceryrules_df <- as(groceryrules, 'data.frame')"
   ]
  },
  {
   "cell_type": "code",
   "execution_count": 46,
   "metadata": {
    "collapsed": false
   },
   "outputs": [],
   "source": [
    "#str(groceryrules_df)"
   ]
  }
 ],
 "metadata": {
  "anaconda-cloud": {},
  "kernelspec": {
   "display_name": "R",
   "language": "R",
   "name": "ir"
  },
  "language_info": {
   "codemirror_mode": "r",
   "file_extension": ".r",
   "mimetype": "text/x-r-source",
   "name": "R",
   "pygments_lexer": "r",
   "version": "3.3.1"
  }
 },
 "nbformat": 4,
 "nbformat_minor": 0
}
